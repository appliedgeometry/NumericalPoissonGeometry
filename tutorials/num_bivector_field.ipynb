{
  "nbformat": 4,
  "nbformat_minor": 0,
  "metadata": {
    "colab": {
      "name": "num_bivector_field.ipynb",
      "provenance": [],
      "collapsed_sections": []
    },
    "kernelspec": {
      "name": "python3",
      "display_name": "Python 3"
    }
  },
  "cells": [
    {
      "cell_type": "markdown",
      "metadata": {
        "id": "Jg-5TwDOpacY"
      },
      "source": [
        "# `num_bivector`"
      ]
    },
    {
      "cell_type": "markdown",
      "metadata": {
        "id": "w-kKc8DnHoy5"
      },
      "source": [
        "The function `num_bivector` evaluates a (Poisson) bivector field on a mesh in $\\mathbf{R}^m$.\n",
        "\n",
        "\n",
        "<!-- Puede ser una malla predefinida por el usuario o utilizar una de las mayas precargada en en tutorial  -->"
      ]
    },
    {
      "cell_type": "markdown",
      "metadata": {
        "id": "_loTnXdlPQvq"
      },
      "source": [
        "## Downloading from PyPi"
      ]
    },
    {
      "cell_type": "markdown",
      "metadata": {
        "id": "EjI0Rd0xLZcm"
      },
      "source": [
        "First, install the `NumPoissonGeometry` module:"
      ]
    },
    {
      "cell_type": "code",
      "metadata": {
        "id": "057N1ETMMPTG"
      },
      "source": [
        "!pip install numericalpoissongeometry  "
      ],
      "execution_count": null,
      "outputs": []
    },
    {
      "cell_type": "markdown",
      "metadata": {
        "id": "-5_R7YNwMbRy"
      },
      "source": [
        "For this example, initialize our Numerical Poisson Geometry module to work in dimension three. \n",
        "\n",
        "<!-- Esto funciona para dimesiones arbitrarias peropor simplicidade utilizaremos la dimesion 3 -->"
      ]
    },
    {
      "cell_type": "code",
      "metadata": {
        "id": "-I2mKEKgLgUn"
      },
      "source": [
        "from numpoisson.numpoisson import NumPoissonGeometry    # Importing the NumPoissonGeometry module\n",
        "npg3 = NumPoissonGeometry(3)    # Instantiate the NumPoissonGeometry module"
      ],
      "execution_count": null,
      "outputs": []
    },
    {
      "cell_type": "markdown",
      "metadata": {
        "id": "wwomv8iHRZ1N"
      },
      "source": [
        "##Loading a mesh  "
      ]
    },
    {
      "cell_type": "markdown",
      "metadata": {
        "id": "X23jqjFLJV9p"
      },
      "source": [
        "You can input any numpy mesh array to use this function. We have included precalculated meshes with random coordinates, of point cardinalities $10^{k}$ for $k \\in \\{2,3,4,5,6\\}$. \n",
        "\n",
        "<!-- -->\n",
        "To use our meshes, select one from the drop down menu on the right below, and run the following cell:"
      ]
    },
    {
      "cell_type": "code",
      "metadata": {
        "id": "3ZOJm3U8pVEl",
        "cellView": "form"
      },
      "source": [
        "import numpy as np \n",
        "# This block defines the mesh value\n",
        "#@title Select mesh. \n",
        "mesh = \"10**2 points\" #@param [\"10**2 points\", \"10**3  points\", \"10**4  points\", \"10**5 points \", \"10**6 points\"]\n",
        "\n",
        "if mesh == \"10**2 points\":\n",
        "  !wget https://raw.githubusercontent.com/mevangelista-alvarado/NumericalPoissonGeometry/master/meshes/dim3/mesh_10_2.npy\n",
        "  with open('mesh_10_2.npy', 'rb') as f:\n",
        "    mesh = np.load(f)\n",
        "  # Borrar file\n",
        "  !rm mesh_10_2.npy\n",
        "  \n",
        "if mesh == \"10**3 points\":\n",
        "  !wget https://raw.githubusercontent.com/mevangelista-alvarado/NumericalPoissonGeometry/master/meshes/dim3/mesh_10_3.npy\n",
        "  with open('mesh_10_3.npy', 'rb') as f:\n",
        "    mesh = np.load(f)\n",
        "  # Borrar file\n",
        "  !rm mesh_10_3.npy\n",
        "\n",
        "if mesh == \"10**4 points\":\n",
        "  !wget https://raw.githubusercontent.com/mevangelista-alvarado/NumericalPoissonGeometry/master/meshes/dim3/mesh_10_4.npy\n",
        "  with open('mesh_10_4.npy', 'rb') as f:\n",
        "    mesh = np.load(f)\n",
        "  # Borrar file\n",
        "  !rm mesh_10_4.npy\n",
        "\n",
        "if mesh == \"10**5 points\":\n",
        "  !wget https://raw.githubusercontent.com/mevangelista-alvarado/NumericalPoissonGeometry/master/meshes/dim3/mesh_10_5.npy\n",
        "  with open('mesh_10_5.npy', 'rb') as f:\n",
        "    mesh = np.load(f)\n",
        "  # Borrar file\n",
        "  !rm mesh_10_5.npy\n",
        "\n",
        "if mesh == \"10**6 points\":\n",
        "  !wget https://raw.githubusercontent.com/mevangelista-alvarado/NumericalPoissonGeometry/master/meshes/dim3/mesh_10_6.npy\n",
        "  with open('mesh_10_6.npy', 'rb') as f:\n",
        "    mesh = np.load(f)\n",
        "  # Borrar file\n",
        "  !rm mesh_10_6.npy\n"
      ],
      "execution_count": null,
      "outputs": []
    },
    {
      "cell_type": "markdown",
      "metadata": {
        "id": "cE9G2N1WxMTu"
      },
      "source": [
        "These meshes are saved in the [Numerical Poisson Geometry](https://github.com/mevangelista-alvarado/NumericalPoissonGeometry) repository.\n"
      ]
    },
    {
      "cell_type": "markdown",
      "metadata": {
        "id": "jAx711NZjbf-"
      },
      "source": [
        "Other option is that you can select the meshes like as present in the articule *On Computational Poisson Geometry II:1Numerical Methods*, ie, the meshes as following:\n",
        "\n",
        "$$Q^{3}:= \\{0, 1\\}\\times \\{0, 1\\} \\times \\{0, 1\\},$$\n",
        "\n",
        "That is, we use the ‘corners’ of the unit cube on $\\mathbb{R}^3.$  \n",
        "\n",
        "If you need to use a `Q_mesh` select in the follow dropdown the number of points that need in the mesh otherwise select the `N/A`  to use the previous mesh."
      ]
    },
    {
      "cell_type": "code",
      "metadata": {
        "id": "XfIyWlOuvA0q",
        "cellView": "form"
      },
      "source": [
        "Q_mesh = \"N/A\" #@param [\"N/A\", \"10**2 points\", \"10**3  points\", \"10**4  points\", \"10**5 points \", \"10**6 points\"]\n",
        "\n",
        "if Q_mesh == \"10**2 points\":\n",
        "  !wget https://raw.githubusercontent.com/mevangelista-alvarado/NumericalPoissonGeometry/master/meshes/dim3/Qmesh_10_2.npy\n",
        "  with open('Qmesh_10_2.npy', 'rb') as f:\n",
        "    mesh = np.load(f)\n",
        "  # Borrar file\n",
        "  !rm Qmesh_10_2.npy\n",
        "  \n",
        "if Q_mesh == \"10**3 points\":\n",
        "  !wget https://raw.githubusercontent.com/mevangelista-alvarado/NumericalPoissonGeometry/master/meshes/dim3/Qmesh_10_3.npy\n",
        "  with open('Qmesh_10_3.npy', 'rb') as f:\n",
        "    mesh = np.load(f)\n",
        "  # Borrar file\n",
        "  !rm Qmesh_10_3.npy\n",
        "\n",
        "if Q_mesh == \"10**4 points\":\n",
        "  !wget https://raw.githubusercontent.com/mevangelista-alvarado/NumericalPoissonGeometry/master/meshes/dim3/Qmesh_10_4.npy\n",
        "  with open('Qmesh_10_4.npy', 'rb') as f:\n",
        "    mesh = np.load(f)\n",
        "  # Borrar file\n",
        "  !rm Qmesh_10_4.npy\n",
        "\n",
        "if Q_mesh == \"10**5 points\":\n",
        "  !wget https://raw.githubusercontent.com/mevangelista-alvarado/NumericalPoissonGeometry/master/meshes/dim3/Qmesh_10_5.npy\n",
        "  with open('Qmesh_10_5.npy', 'rb') as f:\n",
        "    mesh = np.load(f)\n",
        "  # Borrar file\n",
        "  !rm Qmesh_10_5.npy\n",
        "\n",
        "if Q_mesh == \"10**6 points\":\n",
        "  !wget https://raw.githubusercontent.com/mevangelista-alvarado/NumericalPoissonGeometry/master/meshes/dim3/Qmesh_10_6.npy\n",
        "  with open('Qmesh_10_6.npy', 'rb') as f:\n",
        "    mesh = np.load(f)\n",
        "  # Borrar file\n",
        "  !rm Qmesh_10_6.npy \n",
        "\n",
        "if Q_mesh == \"N/A\":\n",
        "  pass"
      ],
      "execution_count": null,
      "outputs": []
    },
    {
      "cell_type": "markdown",
      "metadata": {
        "id": "GKuh__d8O45J"
      },
      "source": [
        "## Example"
      ]
    },
    {
      "cell_type": "markdown",
      "metadata": {
        "id": "KClxNB5ZJXy1"
      },
      "source": [
        "Consider the Lie-Poisson bivector field on $\\mathbf{R}_x^3$\n",
        "\n",
        "$$\\Pi_{\\mathfrak{so}(3)} =  x_3\\frac{\\partial}{\\partial x^1} \\wedge \\frac{\\partial}{\\partial x^2} - x_2\\frac{\\partial}{\\partial x^1} \\wedge \\frac{\\partial}{\\partial x^3} + x_1\\frac{\\partial}{\\partial x^2} \\wedge \\frac{\\partial}{\\partial x^3},$$\n",
        "\n",
        "associated to the 3-dimensional Lie algebra $\\mathfrak{so}(3)$, which is used, for example, in studies of the 3-body problem, and more generally in geometric mechanics."
      ]
    },
    {
      "cell_type": "markdown",
      "metadata": {
        "id": "HWCfpZILM44K"
      },
      "source": [
        "Now run the following cell, where we first define the Lie-Poisson bivector in dictionary format and then we evaluate the previously selected mesh with our  `num_bivector` method:\n"
      ]
    },
    {
      "cell_type": "code",
      "metadata": {
        "id": "0r0t4CkGOjKQ"
      },
      "source": [
        "Pso3 = {(1, 2): 'x3', (1, 3): '-x2', (2, 3): 'x1'}  # Define the Lie-Poisson bivector field of so(3) in dictionary format\n",
        "npg3.num_bivector(Pso3, mesh)   # Evaluate the Lie-Poisson bivector Pso3 field on the selected mesh\n",
        "\n",
        "# If you want to use your own mesh, load it as a numpy array into the mesh value above"
      ],
      "execution_count": null,
      "outputs": []
    },
    {
      "cell_type": "markdown",
      "metadata": {
        "id": "Y__N2eXtahcJ"
      },
      "source": [
        "Remember that is possible to add the flags `pt_output`, `tf_output` and `dict_output` with a value equal `True`, where each flag means the follows:\n",
        "\n",
        "flag | returns\n",
        "-- | --\n",
        "`pt_output` | All bivector evaluations saved in a PyTorch tensor format\n",
        "`tf_output` | All bivector evaluations saved in a TensorFlow tensor format\n",
        "`dict_output` | All bivector evaluations saved in a dict format \n",
        "\n",
        "For more information about multivectors in dictionary format see our `PoissonGeometry` tutorial in the [syntaxis](https://colab.research.google.com/drive/1XYcaJQ29XwkblXQOYumT1s8_00bHUEKZ#scrollTo=0tPr4gCJFkmC) section."
      ]
    }
  ]
}