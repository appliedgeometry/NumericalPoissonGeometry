{
  "nbformat": 4,
  "nbformat_minor": 0,
  "metadata": {
    "colab": {
      "name": "CNVSMM-2020.ipynb",
      "provenance": [],
      "collapsed_sections": [
        "Us7rEWncV0Ap"
      ]
    },
    "kernelspec": {
      "name": "python3",
      "display_name": "Python 3"
    }
  },
  "cells": [
    {
      "cell_type": "markdown",
      "metadata": {
        "id": "8EweOTj599_K"
      },
      "source": [
        "# `NUMERICAL POISSON GEOMETRY`"
      ]
    },
    {
      "cell_type": "markdown",
      "metadata": {
        "id": "oQgwZ0ilAN6-"
      },
      "source": [
        "Este *notebook* fue utilizado en la charla **Un breve vistazo a la Geometría de Poisson Computacional** durante la realización del *Congreso Nacional Virtual de la Sociedad Matemática Mexicana en 2020* \n",
        "\n",
        "Videos de la plática:\n",
        "*   [Parte I](https://www.youtube.com/watch?v=27nBbz8BbL0&feature=emb_logo)\n",
        "*   [Parte II](https://www.youtube.com/watch?v=PtTaK_Qef54&feature=emb_logo)\n",
        "\n"
      ]
    },
    {
      "cell_type": "markdown",
      "metadata": {
        "id": "qTHhhSwn-Rn8"
      },
      "source": [
        "# Instalación y sintaxis\n",
        "---"
      ]
    },
    {
      "cell_type": "code",
      "metadata": {
        "id": "D7uGQdE8xLXh"
      },
      "source": [
        "!pip install numericalpoissongeometry"
      ],
      "execution_count": null,
      "outputs": []
    },
    {
      "cell_type": "markdown",
      "metadata": {
        "id": "ae49aunOwhiV"
      },
      "source": [
        "### Bivector\n",
        "\n"
      ]
    },
    {
      "cell_type": "markdown",
      "metadata": {
        "id": "XFdv1d5HDFOe"
      },
      "source": [
        "El bivector asociado a $\\mathfrak{so}(3)$ es \n",
        "\n",
        "$$\\Pi_{\\mathfrak{so(3)}} = x_{3}\\frac{\\partial}{\\partial x_{1}} \\wedge \\frac{\\partial}{\\partial x_{2}} - x_{2}\\frac{\\partial}{\\partial x_{1}} \\wedge \\frac{\\partial}{\\partial x_{3}} + x_{1}\\frac{\\partial}{\\partial x_{2}} \\wedge \\frac{\\partial}{\\partial x_{3}}$$\n"
      ]
    },
    {
      "cell_type": "code",
      "metadata": {
        "id": "3seI08dUyMg7"
      },
      "source": [
        "P_so3 = {(1, 2): 'x3', (1, 3): '-1*x2', (2, 3): 'x1'}\n",
        "P_so3 = {(1, 2): 'x3', (1, 3): '-x2', (2, 3): 'x1'}"
      ],
      "execution_count": null,
      "outputs": []
    },
    {
      "cell_type": "markdown",
      "metadata": {
        "id": "FtmxMHi1CO8z"
      },
      "source": [
        "Recuerde lo siguiente para `Python`"
      ]
    },
    {
      "cell_type": "markdown",
      "metadata": {
        "id": "Pt3B3am3_HbW"
      },
      "source": [
        " \n",
        "\n",
        "*   `**` --> exponente\n",
        "*   `*`  --> multiplicación\n",
        "*   `+`  --> suma\n",
        "*   `-`  --> resta\n",
        "*   `/`  --> división\n",
        "\n",
        "Más info https://docs.python.org/3/library/numeric.html\n"
      ]
    },
    {
      "cell_type": "markdown",
      "metadata": {
        "id": "Wyi10Mk2yFg3"
      },
      "source": [
        "### Funciones Escalares \n"
      ]
    },
    {
      "cell_type": "markdown",
      "metadata": {
        "id": "2V2al0reECJE"
      },
      "source": [
        "Sea $K_{\\mathfrak{so}(3)}: \\mathbb{R}^{3} \\to \\mathbb{R}$ definida como $$K_{\\mathfrak{so}(3)}(x_{1}, x_{2}, x_{3}) = \\frac{x^{2}_{1}}{2} + \\frac{x^{2}_{2}}{2} + \\frac{x^{2}_{3}}{2} $$\n"
      ]
    },
    {
      "cell_type": "code",
      "metadata": {
        "id": "XubrcnLeyN06"
      },
      "source": [
        "K_so3 = '(1/2)*(x1**2 + x2**2 + x3**2)'\n",
        "K_so3 = '(x1**2)/2 + (x2**2)/2 + (x3**2)/2'"
      ],
      "execution_count": null,
      "outputs": []
    },
    {
      "cell_type": "markdown",
      "metadata": {
        "id": "chP508i_yPHu"
      },
      "source": [
        "### Mallas"
      ]
    },
    {
      "cell_type": "markdown",
      "metadata": {
        "id": "zOCWN0u6GT78"
      },
      "source": [
        "Las mallas que utiliza el módulo `NumericalPoissonGeometry` son las siguientes:\n",
        "*   Lista de listas\n",
        "*   Arreglos de `Numpy`\n"
      ]
    },
    {
      "cell_type": "markdown",
      "metadata": {
        "id": "cEKqKgT-G10g"
      },
      "source": [
        "#### Lista de listas (`Python` nativo)"
      ]
    },
    {
      "cell_type": "code",
      "metadata": {
        "id": "7PS4Ubo4yRji"
      },
      "source": [
        "# Simple lista de listas en Python\n",
        "R3_list = [[1, 0, 0], [0, 1, 0], [0, 0, 1]]\n",
        "R3_list"
      ],
      "execution_count": null,
      "outputs": []
    },
    {
      "cell_type": "markdown",
      "metadata": {
        "id": "iG_Of7yLJ5MB"
      },
      "source": [
        "#### Arreglos de `Numpy`\n",
        "\n",
        "Para manipular una gran cantidad de puntos, es recomendable utilizar el módulo de `python` para análisis numérico `numpy`. "
      ]
    },
    {
      "cell_type": "code",
      "metadata": {
        "id": "-ZJXKmJaKTJI"
      },
      "source": [
        "import numpy as np # Importamos el módulo numpy\n",
        "\n",
        " # Generamos un malla de 10**4 puntos con números aleatorios \n",
        "R3_numpy_ramdon = np.random.rand(10**4, 3)\n",
        "R3_numpy_ramdon"
      ],
      "execution_count": null,
      "outputs": []
    },
    {
      "cell_type": "code",
      "metadata": {
        "id": "cZqyoJDzK8nZ"
      },
      "source": [
        "len(R3_numpy_ramdon)"
      ],
      "execution_count": null,
      "outputs": []
    },
    {
      "cell_type": "markdown",
      "metadata": {
        "id": "fuLuxxlSLjCF"
      },
      "source": [
        "### Primer uso del módulo "
      ]
    },
    {
      "cell_type": "code",
      "metadata": {
        "id": "Vxf6MJC2LqKs"
      },
      "source": [
        "# Importamos el módulo NumericalPoissonGeometry\n",
        "from numpoisson.numpoisson import NumPoissonGeometry as npg \n",
        "\n",
        "# Instanciar el módulo NumericalPoissonGeometry con la dimensión y la variable a usar \n",
        "npg3 = npg(3, 'x') \n",
        "# Esta función muestra todos los métodos de una clase\n",
        "dir(npg) "
      ],
      "execution_count": null,
      "outputs": []
    },
    {
      "cell_type": "markdown",
      "metadata": {
        "id": "Us7rEWncV0Ap"
      },
      "source": [
        "#### $\\LaTeX$ bonito"
      ]
    },
    {
      "cell_type": "code",
      "metadata": {
        "id": "iukQn8rvV5YS"
      },
      "source": [
        "import sympy\n",
        "def custom_latex_printer(exp,**options):\n",
        "    from google.colab.output._publish import javascript\n",
        "    url = \"https://cdnjs.cloudflare.com/ajax/libs/mathjax/2.7.3/latest.js?config=default\"\n",
        "    javascript(url=url)\n",
        "    return sympy.printing.latex(exp,**options)\n",
        "sympy.init_printing(use_latex=\"mathjax\",latex_printer=custom_latex_printer)"
      ],
      "execution_count": null,
      "outputs": []
    },
    {
      "cell_type": "markdown",
      "metadata": {
        "id": "V4f24L-GwTiT"
      },
      "source": [
        "# Álgebra de Lie $\\mathfrak{so}(3)$\n",
        "\n",
        "---\n",
        "\n"
      ]
    },
    {
      "cell_type": "markdown",
      "metadata": {
        "id": "8NeOdhWMmr9Q"
      },
      "source": [
        "Recordemos \n",
        "\n",
        "$$\\mathfrak{so}(3)\\simeq\\{ M \\in Mat_{3\\times 3}(\\mathbb{R}) | M^{T} = -M \\}$$  \n",
        "  \n",
        "\n",
        "La estructura de álgebra de Lie en $\\{ M \\in Mat_{3\\times 3}(\\mathbb{R}) | M^{T} = -M \\}$ es la inducida por el conmutador $[A, B]:= AB - BA$"
      ]
    },
    {
      "cell_type": "markdown",
      "metadata": {
        "id": "eHhnnWy9PvTy"
      },
      "source": [
        "El bivector asociado a $\\mathfrak{so}(3)$ es \n",
        "\n",
        "$$\\Pi_{\\mathfrak{so(3)}} = x_{3}\\frac{\\partial}{\\partial x_{1}} \\wedge \\frac{\\partial}{\\partial x_{2}} - x_{2}\\frac{\\partial}{\\partial x_{1}} \\wedge \\frac{\\partial}{\\partial x_{3}} + x_{1}\\frac{\\partial}{\\partial x_{2}} \\wedge \\frac{\\partial}{\\partial x_{3}}$$"
      ]
    },
    {
      "cell_type": "markdown",
      "metadata": {
        "id": "xivtxIrdOjVI"
      },
      "source": [
        "### Evaluación de la matriz asociada al bivector $\\Pi_{\\mathfrak{so(3)}}$"
      ]
    },
    {
      "cell_type": "code",
      "metadata": {
        "id": "yOxrMuGiEyYm"
      },
      "source": [
        "# Importamos el módulo NumericalPoissonGeometry\n",
        "from numpoisson.numpoisson import NumPoissonGeometry as npg\n",
        "\n",
        "# Instanciamos el módulo NumericalPoissonGeometry \n",
        "npg3 = npg(3, 'x') \n",
        "# Definimos el bivector asociado a so(3)\n",
        "P_so3 = {(1, 2): 'x3', (1, 3): '-x2', (2, 3): 'x1'} "
      ],
      "execution_count": null,
      "outputs": []
    },
    {
      "cell_type": "markdown",
      "metadata": {
        "id": "vfQ_1dkAMrdQ"
      },
      "source": [
        "Para el caso de la malla `R3_list`\n",
        "\n"
      ]
    },
    {
      "cell_type": "code",
      "metadata": {
        "id": "6KLMXYsqPJWp"
      },
      "source": [
        "R3_list"
      ],
      "execution_count": null,
      "outputs": []
    },
    {
      "cell_type": "code",
      "metadata": {
        "id": "N70ICa9NVs5a"
      },
      "source": [
        "# Importamos el módulo PoissonGeometry\n",
        "from poisson.poisson import PoissonGeometry as pg \n",
        "\n",
        "# Instanciamos el módulo PoissonGeometry \n",
        "pg3 = pg(3, 'x')\n",
        "# Calculamos la matriz asociada al bivector P_so3 \n",
        "pg3.bivector_to_matrix(P_so3) "
      ],
      "execution_count": null,
      "outputs": []
    },
    {
      "cell_type": "markdown",
      "metadata": {
        "id": "eH9lPShMMwvU"
      },
      "source": [
        "Las funciones del método `NumericalPoissonGeometry` retornan 4 tipos de resultados:\n",
        "\n",
        "\n",
        "*   `Numpy`, \n",
        "*   tf_output  --->  `TensorFlow`\n",
        "*   pt_output  --->  `Pytorch`\n",
        "*   dict_output -->  `PoissonGeometry`\n",
        "\n"
      ]
    },
    {
      "cell_type": "code",
      "metadata": {
        "id": "pVR64hhrJxOq"
      },
      "source": [
        "# Evaluamos la matriz asociada al bivector P_so3 en la malla R3_list\n",
        "result_np = npg3.num_bivector_to_matrix(P_so3, R3_list)\n",
        "result_np"
      ],
      "execution_count": null,
      "outputs": []
    },
    {
      "cell_type": "code",
      "metadata": {
        "id": "TuLXsPX6NYEX"
      },
      "source": [
        "type(result_np)"
      ],
      "execution_count": null,
      "outputs": []
    },
    {
      "cell_type": "code",
      "metadata": {
        "id": "K-3oul3-I_qj"
      },
      "source": [
        "# Evaluamos la matriz asociado al bivector P_so3 en la malla R3_list\n",
        "result_pt = npg3.num_bivector_to_matrix(P_so3, R3_list, pt_output=True)\n",
        "result_pt"
      ],
      "execution_count": null,
      "outputs": []
    },
    {
      "cell_type": "code",
      "metadata": {
        "id": "YwzQIH1GNbxT"
      },
      "source": [
        "type(result_pt)"
      ],
      "execution_count": null,
      "outputs": []
    },
    {
      "cell_type": "code",
      "metadata": {
        "id": "CL1qxam7IKsb"
      },
      "source": [
        "# Evaluamos la matriz asociada al bivector P_so3 en la malla R3_list\n",
        "result_tf = npg3.num_bivector_to_matrix(P_so3, R3_list, tf_output=True)\n",
        "result_tf"
      ],
      "execution_count": null,
      "outputs": []
    },
    {
      "cell_type": "code",
      "metadata": {
        "id": "koRizM2QNlKe"
      },
      "source": [
        "type(result_tf)"
      ],
      "execution_count": null,
      "outputs": []
    },
    {
      "cell_type": "markdown",
      "metadata": {
        "id": "vGMd1rA5M5OM"
      },
      "source": [
        "Para el caso de la malla `R3_numpy_ramdon`"
      ]
    },
    {
      "cell_type": "code",
      "metadata": {
        "id": "hOvhu_okM7h5"
      },
      "source": [
        "# Evaluamos la matriz asociada al bivector P_so3 en la malla R3_numpy_ramdon\n",
        "result_np = npg3.num_bivector_to_matrix(P_so3, R3_numpy_ramdon)\n",
        "result_np"
      ],
      "execution_count": null,
      "outputs": []
    },
    {
      "cell_type": "markdown",
      "metadata": {
        "id": "_r-es8-xOqzj"
      },
      "source": [
        "### Evaluación del bivector $\\Pi_{\\mathfrak{so(3)}}$ "
      ]
    },
    {
      "cell_type": "code",
      "metadata": {
        "id": "KF0LcxasPBDa"
      },
      "source": [
        "# Evaluamos el bivector P_so3 en la malla  \n",
        "npg3.num_bivector(P_so3, R3_list)"
      ],
      "execution_count": null,
      "outputs": []
    },
    {
      "cell_type": "code",
      "metadata": {
        "id": "xblbxQZ5QUJj"
      },
      "source": [
        "# Evaluamos el bivector asociado a P_so3 en la malla R3_list\n",
        "result_dict = npg3.num_bivector(P_so3, R3_list, dict_output=True)\n",
        "result_dict"
      ],
      "execution_count": null,
      "outputs": []
    },
    {
      "cell_type": "code",
      "metadata": {
        "id": "cjaqKhR6OA-a"
      },
      "source": [
        "type(result_dict)"
      ],
      "execution_count": null,
      "outputs": []
    },
    {
      "cell_type": "markdown",
      "metadata": {
        "id": "eA9PTsGHlWgC"
      },
      "source": [
        "#### Evaluación de $X_{h}$ relativo a $\\Pi_{\\mathfrak{so(3)}}$\n"
      ]
    },
    {
      "cell_type": "markdown",
      "metadata": {
        "id": "H75l5rs2l8M4"
      },
      "source": [
        "Caso 1: \n",
        "\n",
        "Sea $h = K_{\\mathfrak{so}(3)}: \\mathbb{R}^{3} \\to \\mathbb{R}$ definida como $$K_{\\mathfrak{so}(3)}(x_{1}, x_{2}, x_{3}) = \\frac{x^{2}_{1}}{2} + \\frac{x^{2}_{2}}{2} + \\frac{x^{2}_{3}}{2} $$\n"
      ]
    },
    {
      "cell_type": "code",
      "metadata": {
        "id": "MsxFHNJQnm_6"
      },
      "source": [
        "# Encontramos el campo vectorial asociado a K_so3 inducido por P_so3 con el módulo simbólico  \n",
        "pg3.hamiltonian_vf(P_so3, K_so3) "
      ],
      "execution_count": null,
      "outputs": []
    },
    {
      "cell_type": "code",
      "metadata": {
        "id": "2oE18YPOUzDU"
      },
      "source": [
        "# Evaluamos el campo vectorial en la malla R3_numpy_ramdon\n",
        "npg3.num_hamiltonian_vf(P_so3, K_so3, R3_numpy_ramdon, pt_output=True)"
      ],
      "execution_count": null,
      "outputs": []
    },
    {
      "cell_type": "markdown",
      "metadata": {
        "id": "f9AOqFjbmWd5"
      },
      "source": [
        "Caso 2:  \n",
        " \n",
        "Sea $h: \\mathbb{R}^{3} \\to \\mathbb{R}$ definida como $$h(x_{1}, x_{2}, x_{3}) = \\frac{x^{2}_{1}}{2} - \\frac{x^{2}_{2}}{2} - \\frac{x^{2}_{3}}{2} $$\n"
      ]
    },
    {
      "cell_type": "code",
      "metadata": {
        "id": "HYapla4QoI1_"
      },
      "source": [
        "# Definimos una función escalar h\n",
        "h = '(x1**2)/2 - (x2**2)/2 - (x3**2)/2' \n",
        "# Encontramos el campo vectorial asociado a K_so3 inducido por P_so3 con el módulo simbólico  \n",
        "pg3.hamiltonian_vf(P_so3, h) "
      ],
      "execution_count": null,
      "outputs": []
    },
    {
      "cell_type": "code",
      "metadata": {
        "id": "shqu2JZtkiG2"
      },
      "source": [
        "# Evaluamos el campo vectorial en la malla R3_list\n",
        "npg3.num_hamiltonian_vf(P_so3, h, R3_list)"
      ],
      "execution_count": null,
      "outputs": []
    },
    {
      "cell_type": "code",
      "metadata": {
        "id": "JRZmlkGYoVR4"
      },
      "source": [
        "# Evaluamos el campo vectorial en la malla R3_numpy_ramdon\n",
        "npg3.num_hamiltonian_vf(P_so3, h, R3_numpy_ramdon)"
      ],
      "execution_count": null,
      "outputs": []
    },
    {
      "cell_type": "markdown",
      "metadata": {
        "id": "YpmZZIW1vzpP"
      },
      "source": [
        "# Álgebra de Lie $\\mathfrak{sl}(2)$\n",
        "\n",
        "---"
      ]
    },
    {
      "cell_type": "markdown",
      "metadata": {
        "id": "DWgUgjQRotHe"
      },
      "source": [
        "Recordemos \n",
        "\n",
        "$$\\mathfrak{sl}(2)\\simeq\\{ M \\in Mat_{3\\times 3}(\\mathbb{R}) | tr(M) = 0 \\}$$  \n",
        "  \n",
        "\n",
        "La estructura de álgebra de Lie en $\\{ M \\in Mat_{3\\times 3}(\\mathbb{R}) | tr(M) = 0 \\}$ es la inducida por el conmutador $[A, B]:= AB - BA$"
      ]
    },
    {
      "cell_type": "markdown",
      "metadata": {
        "id": "yYLNDvMVOiEE"
      },
      "source": [
        "El bivector asociado a $\\mathfrak{sl}(2)$ es \n",
        "\n",
        "$$\\Pi_{\\mathfrak{sl(2)}} = - x_{3}\\frac{\\partial}{\\partial x_{1}} \\wedge \\frac{\\partial}{\\partial x_{2}} - x_{2}\\frac{\\partial}{\\partial x_{1}} \\wedge \\frac{\\partial}{\\partial x_{3}} + x_{1}\\frac{\\partial}{\\partial x_{2}} \\wedge \\frac{\\partial}{\\partial x_{3}}$$"
      ]
    },
    {
      "cell_type": "markdown",
      "metadata": {
        "id": "6DruvRduzY4H"
      },
      "source": [
        "Evaluación del operador de cofrontera inducido por $\\Pi_{\\mathfrak{sl(2)}}$ en el campo vectorial  \n",
        "\n",
        "$$W = \\frac{x_{1} x_{3} exp^{\\frac{-1}{(x_1^2 + x_2^2 - x_3^2)^{2}}}}{x_1^2 + x_2^2}\\frac{\\partial}{\\partial x_1} + \\frac{x_{2} x_{3} exp^{\\frac{-1}{(x_1^2 + x_2^2 - x_3^2)^{2}}}}{x_1^2 + x_2^2}\\frac{\\partial}{\\partial x_2} + exp^{\\frac{-1}{(x_1^2 + x_2^2 - x_3^2)^{2}}} \\frac{\\partial}{\\partial x_3} $$"
      ]
    },
    {
      "cell_type": "code",
      "metadata": {
        "id": "0BSlNw1yMHjq"
      },
      "source": [
        "# Importamos el módulo NumericalPoissonGeometry\n",
        "from numpoisson.numpoisson import NumPoissonGeometry as npg\n",
        "# Importamos el módulo PoissonGeometry \n",
        "from poisson.poisson import PoissonGeometry as pg \n",
        "\n",
        "# Instanciar el módulo NumericalPoissonGeometry con la dimensión y la variable a usar \n",
        "npg3 = npg(3, 'x')\n",
        "# Instanciar el módulo PoissonGeometry con la dimensión y la variable a usar  \n",
        "pg3 = pg(3, 'x') \n"
      ],
      "execution_count": null,
      "outputs": []
    },
    {
      "cell_type": "code",
      "metadata": {
        "id": "UjhccSxIzlxl"
      },
      "source": [
        "# Definimos el bivector asociado a so(3)\n",
        "P_sl2 = {(1, 2): '-x3', (1, 3): '-x2', (2,3): 'x1'}\n",
        "# Definimos el campo vectorial W\n",
        "W = {(1,): 'x1 * x3* exp(-1/(x1**2 + x2**2 - x3**2)**2) / (x1**2 + x2**2)',\n",
        "     (2,): 'x2 * x3* exp(-1/(x1**2 + x2**2 - x3**2)**2) / (x1**2 + x2**2)',\n",
        "     (3,): 'exp(-1 / (x1**2 + x2**2 - x3**2)**2)'}\n",
        "# Calculamos la imagen del operador de cofrontera inducido por P_sl2 en el campo vectorial W\n",
        "pg3.lichnerowicz_poisson_operator(P_sl2, W)"
      ],
      "execution_count": null,
      "outputs": []
    },
    {
      "cell_type": "markdown",
      "metadata": {
        "id": "NpmBH6f9evPt"
      },
      "source": [
        "Para tener un ejemplo distinto a cero redefinimos el campo vectorial  \n",
        "\n",
        "$$W = \\frac{x_{1}exp^{\\frac{-1}{(x_1^2 + x_2^2 - x_3^2)^{2}}}}{x_1^2 + x_2^2}\\frac{\\partial}{\\partial x_1} + \\frac{x_{2}exp^{\\frac{-1}{(x_1^2 + x_2^2 - x_3^2)^{2}}}}{x_1^2 + x_2^2}\\frac{\\partial}{\\partial x_2} + x_3 \\frac{\\partial}{\\partial x_3} $$\n",
        "\n"
      ]
    },
    {
      "cell_type": "code",
      "metadata": {
        "id": "A7OjnYzVLVVs"
      },
      "source": [
        "# Redefinimos el campo vectorial W\n",
        "W = {(1,): 'x1 * exp(-1/(x1**2 + x2**2 - x3**2)**2) / (x1**2 + x2**2)',\n",
        "     (2,): 'x2 * exp(-1/(x1**2 + x2**2 - x3**2)**2) / (x1**2 + x2**2)',\n",
        "     (3,): 'x3'}\n",
        "# Calculamos la imagen del operador de cofrontera inducido por P_sl2 en el campo vectorial W\n",
        "pg3.lichnerowicz_poisson_operator(P_sl2, W)"
      ],
      "execution_count": null,
      "outputs": []
    },
    {
      "cell_type": "code",
      "metadata": {
        "id": "9mRCbHOkdDlz"
      },
      "source": [
        "# Evaluamos la imagen del operador de cofrontera inducido por P_sl2 en el campo vectorial W en la malla R3_numpy_ramdon\n",
        "npg3.num_coboundary_operator(P_sl2, W, R3_list)"
      ],
      "execution_count": null,
      "outputs": []
    },
    {
      "cell_type": "code",
      "metadata": {
        "id": "UwmIuHTPLGfP"
      },
      "source": [
        "npg3.num_coboundary_operator(P_sl2, W, R3_list, dict_output=True)"
      ],
      "execution_count": null,
      "outputs": []
    },
    {
      "cell_type": "markdown",
      "metadata": {
        "id": "rDOYmu8lRIUB"
      },
      "source": [
        "#### Evaluación de mapeo $\\Pi_{\\mathfrak{sl(2)}}^{\\#}$"
      ]
    },
    {
      "cell_type": "markdown",
      "metadata": {
        "id": "u0RWxB2BSemP"
      },
      "source": [
        "Sea $$\\alpha = x_1 dx_1 + x_2 dx_2 + x_3 dx_3$$\n",
        "\n",
        "Calculemos $\\Pi_{\\mathfrak{sl(2)}}^{\\#}(\\alpha)$ con ayuda del módulo simbólico.\n"
      ]
    },
    {
      "cell_type": "code",
      "metadata": {
        "id": "lyw2-y4lI119"
      },
      "source": [
        "# Definimos la 1-forma alpha\n",
        "alpha = {(1,): 'x1', (2,): 'x2', (3,): '-x3'}\n",
        "# Calculamos el morfismo sharp en alpha de manera simbólica\n",
        "pg3.sharp_morphism(P_sl2, alpha)"
      ],
      "execution_count": null,
      "outputs": []
    },
    {
      "cell_type": "code",
      "metadata": {
        "id": "PmTtl2vtTjPn"
      },
      "source": [
        "# Evaluamos el morfismo sharp en alpha en la malla R3_numpy_ramdon\n",
        "npg3.num_sharp_morphism(P_sl2, alpha, R3_numpy_ramdon)"
      ],
      "execution_count": null,
      "outputs": []
    },
    {
      "cell_type": "markdown",
      "metadata": {
        "id": "UoXru2oJTz93"
      },
      "source": [
        "Ahora consideremos $\\alpha= (x_2-x_3)dx_1 + (x_3-x_1)dx_2 + (x_1-x_2)dx_3$\n"
      ]
    },
    {
      "cell_type": "code",
      "metadata": {
        "id": "MZfI6PslUTOr"
      },
      "source": [
        "# Redefinimos la 1-forma alpha\n",
        "alpha = {(1,): 'x2-x3', (2,): 'x3-x1', (3,): 'x1-x2'}\n",
        "# Calculamos el morfismo sharp en alpha de manera simbólica\n",
        "pg3.sharp_morphism(P_sl2, alpha)"
      ],
      "execution_count": null,
      "outputs": []
    },
    {
      "cell_type": "code",
      "metadata": {
        "id": "5B-cN8MAH6EG"
      },
      "source": [
        "# Evaluamos el morfismo sharp en alpha en la malla R3_list\n",
        "npg3.num_sharp_morphism(P_sl2, alpha, R3_list)"
      ],
      "execution_count": null,
      "outputs": []
    },
    {
      "cell_type": "markdown",
      "metadata": {
        "id": "gVKACEdiUiSC"
      },
      "source": [
        "#### Evaluación del corchete de Poisson asociado a $\\Pi_{\\mathfrak{sl(2)}}$ "
      ]
    },
    {
      "cell_type": "markdown",
      "metadata": {
        "id": "hXT3pJryU0aR"
      },
      "source": [
        "Calculamos $$\\{x_1, x_3\\}_{\\Pi_{\\mathfrak{sl(2)}}} = -x_2$$"
      ]
    },
    {
      "cell_type": "code",
      "metadata": {
        "id": "K_f7Iq28IY2G"
      },
      "source": [
        "# Definimmos las funciones f y g\n",
        "f = 'x1'\n",
        "g = 'x3'\n",
        "# Calculamos el corchete de Poisson de forma simbólica\n",
        "pg3.poisson_bracket(P_sl2, f, g)"
      ],
      "execution_count": null,
      "outputs": []
    },
    {
      "cell_type": "code",
      "metadata": {
        "id": "cgT-B4xUIJZc"
      },
      "source": [
        "# Evaluamos el corchete de Poisson en la malla R3_list\n",
        "npg3.num_poisson_bracket(P_sl2, f, g, R3_list)"
      ],
      "execution_count": null,
      "outputs": []
    },
    {
      "cell_type": "markdown",
      "metadata": {
        "id": "i1lpqBb40up8"
      },
      "source": [
        "De igual manera para  \n",
        "\n",
        "*   $\\{x_1, x_2\\}_{\\Pi_{\\mathfrak{sl(2)}}} = -x_3$\n",
        "*   $\\{x_2, x_3\\}_{\\Pi_{\\mathfrak{sl(2)}}} = x_1$"
      ]
    },
    {
      "cell_type": "code",
      "metadata": {
        "id": "kO1Ps1Lu1FHz"
      },
      "source": [
        "# Definimmos las funciones f y g\n",
        "f = 'x1'\n",
        "g = 'x2'\n",
        "# Calculamos el corchete de Poisson de forma simbólica\n",
        "pg3.poisson_bracket(P_sl2, f, g)"
      ],
      "execution_count": null,
      "outputs": []
    },
    {
      "cell_type": "code",
      "metadata": {
        "id": "LiKO-CLX1MPJ"
      },
      "source": [
        "# Evaluamos el corchete de Poisson en la malla R3_list\n",
        "npg3.num_poisson_bracket(P_sl2, f, g, R3_list)"
      ],
      "execution_count": null,
      "outputs": []
    },
    {
      "cell_type": "code",
      "metadata": {
        "id": "HO8vWLhX1I1g"
      },
      "source": [
        "# Definimmos las funciones f y g\n",
        "f = 'x2'\n",
        "g = 'x3'\n",
        "# Calculamos el corchete de Poisson de forma simbólica\n",
        "pg3.poisson_bracket(P_sl2, f, g)"
      ],
      "execution_count": null,
      "outputs": []
    },
    {
      "cell_type": "code",
      "metadata": {
        "id": "Y8f3ksuY1VVt"
      },
      "source": [
        "# Evaluamos el corchete de Poisson en la malla R3_list\n",
        "npg3.num_poisson_bracket(P_sl2, f, g, R3_list)"
      ],
      "execution_count": null,
      "outputs": []
    },
    {
      "cell_type": "markdown",
      "metadata": {
        "id": "M4dVarsZIEbr"
      },
      "source": [
        "#### Los métodos"
      ]
    },
    {
      "cell_type": "markdown",
      "metadata": {
        "id": "-Ln7vEDsIPx_"
      },
      "source": [
        "\n",
        "| **num_bivector_field**        | **num_bivector_to_matrix**    | **num_poisson_bracket**           |\n",
        "| :---------------------------: | :---------------------------: | :------------------------------:  |\n",
        "| **num_hamiltonian_vf**        | **num_sharp_morphism**        | **num_coboundary_operator**       |\n",
        "| **num_modular_vf**            | **num_curl_operator**         | **num_one_forms_bracket**         |\n",
        "| **num_gauge_transformation**  | **num_linear_normal_form_R3** | **num_flaschka_ratiu_bivector**   |\n",
        "\n",
        "\n",
        "### Referencias\n",
        "\n",
        "\n",
        "* Miguel Evangelista-Alvarado, José C. Ruíz Pantaleón & P. Suárez-Serrato, <br/>\n",
        " [On Computational Poisson Geometry I: Symbolic Foundations](https://arxiv.org/pdf/1912.01746.pdf), <br/> \n",
        "   arXiv:1912.01746 [math.DG] (2019)\n",
        "\n",
        "* https://github.com/mevangelista-alvarado/NumericalPoissonGeometry/blob/master/README.md\n"
      ]
    }
  ]
}